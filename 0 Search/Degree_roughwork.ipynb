{
 "cells": [
  {
   "cell_type": "code",
   "execution_count": 1,
   "metadata": {
    "collapsed": true
   },
   "outputs": [],
   "source": [
    "import pandas as pd\n",
    "import numpy as np"
   ]
  },
  {
   "cell_type": "code",
   "execution_count": 3,
   "metadata": {},
   "outputs": [],
   "source": [
    "s_movies=pd.read_csv('small/movies.csv')\n",
    "s_people=pd.read_csv('small/people.csv')\n",
    "s_stars=pd.read_csv('small/stars.csv')"
   ]
  },
  {
   "cell_type": "code",
   "execution_count": 5,
   "metadata": {},
   "outputs": [
    {
     "data": {
      "text/plain": [
       "(Index(['id', 'title', 'year'], dtype='object'),\n",
       " Index(['id', 'name', 'birth'], dtype='object'),\n",
       " Index(['person_id', 'movie_id'], dtype='object'))"
      ]
     },
     "execution_count": 5,
     "metadata": {},
     "output_type": "execute_result"
    }
   ],
   "source": [
    "s_movies.columns,s_people.columns,s_stars.columns"
   ]
  },
  {
   "cell_type": "code",
   "execution_count": 11,
   "metadata": {
    "scrolled": true
   },
   "outputs": [
    {
     "data": {
      "text/html": [
       "<div>\n",
       "<style>\n",
       "    .dataframe thead tr:only-child th {\n",
       "        text-align: right;\n",
       "    }\n",
       "\n",
       "    .dataframe thead th {\n",
       "        text-align: left;\n",
       "    }\n",
       "\n",
       "    .dataframe tbody tr th {\n",
       "        vertical-align: top;\n",
       "    }\n",
       "</style>\n",
       "<table border=\"1\" class=\"dataframe\">\n",
       "  <thead>\n",
       "    <tr style=\"text-align: right;\">\n",
       "      <th></th>\n",
       "      <th>person_id</th>\n",
       "      <th>name</th>\n",
       "      <th>movie_id</th>\n",
       "      <th>title</th>\n",
       "    </tr>\n",
       "  </thead>\n",
       "  <tbody>\n",
       "    <tr>\n",
       "      <th>0</th>\n",
       "      <td>102</td>\n",
       "      <td>Kevin Bacon</td>\n",
       "      <td>104257</td>\n",
       "      <td>A Few Good Men</td>\n",
       "    </tr>\n",
       "    <tr>\n",
       "      <th>1</th>\n",
       "      <td>129</td>\n",
       "      <td>Tom Cruise</td>\n",
       "      <td>104257</td>\n",
       "      <td>A Few Good Men</td>\n",
       "    </tr>\n",
       "    <tr>\n",
       "      <th>2</th>\n",
       "      <td>193</td>\n",
       "      <td>Demi Moore</td>\n",
       "      <td>104257</td>\n",
       "      <td>A Few Good Men</td>\n",
       "    </tr>\n",
       "    <tr>\n",
       "      <th>3</th>\n",
       "      <td>197</td>\n",
       "      <td>Jack Nicholson</td>\n",
       "      <td>104257</td>\n",
       "      <td>A Few Good Men</td>\n",
       "    </tr>\n",
       "    <tr>\n",
       "      <th>4</th>\n",
       "      <td>102</td>\n",
       "      <td>Kevin Bacon</td>\n",
       "      <td>112384</td>\n",
       "      <td>Apollo 13</td>\n",
       "    </tr>\n",
       "    <tr>\n",
       "      <th>5</th>\n",
       "      <td>158</td>\n",
       "      <td>Tom Hanks</td>\n",
       "      <td>112384</td>\n",
       "      <td>Apollo 13</td>\n",
       "    </tr>\n",
       "    <tr>\n",
       "      <th>6</th>\n",
       "      <td>200</td>\n",
       "      <td>Bill Paxton</td>\n",
       "      <td>112384</td>\n",
       "      <td>Apollo 13</td>\n",
       "    </tr>\n",
       "    <tr>\n",
       "      <th>7</th>\n",
       "      <td>641</td>\n",
       "      <td>Gary Sinise</td>\n",
       "      <td>112384</td>\n",
       "      <td>Apollo 13</td>\n",
       "    </tr>\n",
       "    <tr>\n",
       "      <th>8</th>\n",
       "      <td>129</td>\n",
       "      <td>Tom Cruise</td>\n",
       "      <td>95953</td>\n",
       "      <td>Rain Man</td>\n",
       "    </tr>\n",
       "    <tr>\n",
       "      <th>9</th>\n",
       "      <td>163</td>\n",
       "      <td>Dustin Hoffman</td>\n",
       "      <td>95953</td>\n",
       "      <td>Rain Man</td>\n",
       "    </tr>\n",
       "    <tr>\n",
       "      <th>10</th>\n",
       "      <td>420</td>\n",
       "      <td>Valeria Golino</td>\n",
       "      <td>95953</td>\n",
       "      <td>Rain Man</td>\n",
       "    </tr>\n",
       "    <tr>\n",
       "      <th>11</th>\n",
       "      <td>596520</td>\n",
       "      <td>Gerald R. Molen</td>\n",
       "      <td>95953</td>\n",
       "      <td>Rain Man</td>\n",
       "    </tr>\n",
       "    <tr>\n",
       "      <th>12</th>\n",
       "      <td>144</td>\n",
       "      <td>Cary Elwes</td>\n",
       "      <td>93779</td>\n",
       "      <td>The Princess Bride</td>\n",
       "    </tr>\n",
       "    <tr>\n",
       "      <th>13</th>\n",
       "      <td>1597</td>\n",
       "      <td>Mandy Patinkin</td>\n",
       "      <td>93779</td>\n",
       "      <td>The Princess Bride</td>\n",
       "    </tr>\n",
       "    <tr>\n",
       "      <th>14</th>\n",
       "      <td>1697</td>\n",
       "      <td>Chris Sarandon</td>\n",
       "      <td>93779</td>\n",
       "      <td>The Princess Bride</td>\n",
       "    </tr>\n",
       "    <tr>\n",
       "      <th>15</th>\n",
       "      <td>705</td>\n",
       "      <td>Robin Wright</td>\n",
       "      <td>93779</td>\n",
       "      <td>The Princess Bride</td>\n",
       "    </tr>\n",
       "    <tr>\n",
       "      <th>16</th>\n",
       "      <td>158</td>\n",
       "      <td>Tom Hanks</td>\n",
       "      <td>109830</td>\n",
       "      <td>Forrest Gump</td>\n",
       "    </tr>\n",
       "    <tr>\n",
       "      <th>17</th>\n",
       "      <td>398</td>\n",
       "      <td>Sally Field</td>\n",
       "      <td>109830</td>\n",
       "      <td>Forrest Gump</td>\n",
       "    </tr>\n",
       "    <tr>\n",
       "      <th>18</th>\n",
       "      <td>641</td>\n",
       "      <td>Gary Sinise</td>\n",
       "      <td>109830</td>\n",
       "      <td>Forrest Gump</td>\n",
       "    </tr>\n",
       "    <tr>\n",
       "      <th>19</th>\n",
       "      <td>705</td>\n",
       "      <td>Robin Wright</td>\n",
       "      <td>109830</td>\n",
       "      <td>Forrest Gump</td>\n",
       "    </tr>\n",
       "  </tbody>\n",
       "</table>\n",
       "</div>"
      ],
      "text/plain": [
       "    person_id             name  movie_id               title\n",
       "0         102      Kevin Bacon    104257      A Few Good Men\n",
       "1         129       Tom Cruise    104257      A Few Good Men\n",
       "2         193       Demi Moore    104257      A Few Good Men\n",
       "3         197   Jack Nicholson    104257      A Few Good Men\n",
       "4         102      Kevin Bacon    112384           Apollo 13\n",
       "5         158        Tom Hanks    112384           Apollo 13\n",
       "6         200      Bill Paxton    112384           Apollo 13\n",
       "7         641      Gary Sinise    112384           Apollo 13\n",
       "8         129       Tom Cruise     95953            Rain Man\n",
       "9         163   Dustin Hoffman     95953            Rain Man\n",
       "10        420   Valeria Golino     95953            Rain Man\n",
       "11     596520  Gerald R. Molen     95953            Rain Man\n",
       "12        144       Cary Elwes     93779  The Princess Bride\n",
       "13       1597   Mandy Patinkin     93779  The Princess Bride\n",
       "14       1697   Chris Sarandon     93779  The Princess Bride\n",
       "15        705     Robin Wright     93779  The Princess Bride\n",
       "16        158        Tom Hanks    109830        Forrest Gump\n",
       "17        398      Sally Field    109830        Forrest Gump\n",
       "18        641      Gary Sinise    109830        Forrest Gump\n",
       "19        705     Robin Wright    109830        Forrest Gump"
      ]
     },
     "execution_count": 11,
     "metadata": {},
     "output_type": "execute_result"
    }
   ],
   "source": [
    "degree_df=s_people.merge(s_stars,left_on='id',right_on='person_id').merge(s_movies,left_on='movie_id',right_on='id')[['person_id','name','movie_id','title']]\n",
    "degree_df"
   ]
  },
  {
   "cell_type": "code",
   "execution_count": 12,
   "metadata": {
    "collapsed": true
   },
   "outputs": [
    {
     "name": "stdout",
     "output_type": "stream",
     "text": [
      "<class 'pandas.core.frame.DataFrame'>\n",
      "Int64Index: 20 entries, 0 to 19\n",
      "Data columns (total 4 columns):\n",
      "person_id    20 non-null int64\n",
      "name         20 non-null object\n",
      "movie_id     20 non-null int64\n",
      "title        20 non-null object\n",
      "dtypes: int64(2), object(2)\n",
      "memory usage: 800.0+ bytes\n"
     ]
    }
   ],
   "source": [
    "degree_df.info()"
   ]
  },
  {
   "cell_type": "code",
   "execution_count": 25,
   "metadata": {},
   "outputs": [
    {
     "name": "stdout",
     "output_type": "stream",
     "text": [
      "[102, 158, 200, 641]\n",
      "link found in same movie 112384\n"
     ]
    }
   ],
   "source": [
    "#Tom Hanks(158) --> Valeria Golino(420)\n",
    "src_per=158\n",
    "tgt_per=102#705#144#420\n",
    "xpl_set=set()\n",
    "frntr=[]\n",
    "frntr.append(src_per)\n",
    "while len(frntr)>0:\n",
    "    mv_of_per=set(degree_df[degree_df['person_id'].isin(frntr)]['movie_id'].values)\n",
    "    #mv_of_per=set(degree_df.query(\"person_id==@state\")['movie_id'])\n",
    "    for mvid in mv_of_per:\n",
    "    #set(degree_df[degree_df['movie_id'].isin(mv_of_per)]['person_id'])\n",
    "        per_ids=set(degree_df.query(\"movie_id==@mvid\")['person_id'].values)\n",
    "        if tgt in per_ids:\n",
    "            print(f\"Last action: {mvid}\")\n",
    "            break\n",
    "        elif:\n",
    "            xpl_set.update(per_ids)\n",
    "            frntr=per_ids\n",
    "    "
   ]
  },
  {
   "cell_type": "code",
   "execution_count": null,
   "metadata": {
    "collapsed": true
   },
   "outputs": [],
   "source": [
    "#Tom Hanks(158) --> Valeria Golino(420)\n",
    "src_per=158\n",
    "tgt_per=102#705#144#420\n",
    "xpl_set=set()\n",
    "frntr=[]\n",
    "frntr.append(src_per)\n",
    "while len(frntr)>0:\n",
    "    if tgt_per in frntr:\n",
    "        print(\"Target found\")\n",
    "    elif:\n",
    "        \n",
    "    for prid in frntr:\n",
    "        mvs_of_per=set(degree_df[degree_df['person_id']==prid]['movie_id'].values)\n",
    "        for mvid in mvs_of_per:\n",
    "            per_ids=set(degree_df.query(\"movie_id==@mvid\")['person_id'].values)-xpl_set\n",
    "            if tgt_per in per_ids:\n",
    "                print(f\"Last action: {mvid}\")\n",
    "                break\n",
    "            elif:\n",
    "                xpl_set.update(frntr)\n",
    "                frntr.append(per_ids)\n",
    "                frntr=frntr-xpl_set\n",
    "    "
   ]
  },
  {
   "cell_type": "code",
   "execution_count": null,
   "metadata": {
    "collapsed": true
   },
   "outputs": [],
   "source": [
    "#Algo implimentation\n",
    "#Tom Hanks(158) --> Valeria Golino(420)\n",
    "src_per=158\n",
    "tgt_per=102#705#144#420\n",
    "xpl_set=set()\n",
    "frntr=[]\n",
    "frntr.append(src_per)\n",
    "mov_per_dic=dict()\n",
    "while len(frntr)>0:\n",
    "    state=frntr[0]\n",
    "    for state in frntr:\n",
    "        if state==tgt_per:\n",
    "            print(\"Target found\")\n",
    "        elif:\n",
    "            xpl_set.add(state)\n",
    "            mvs_of_per=set(degree_df.query(\"person_id==@state\")['movie_id'].values)#These are the actions/directions\n",
    "            for action in mvs_of_per:\n",
    "                mov_per_dic[action]=set(degree_df.query(\"movie_id==@action\")['person_id'].values)-xpl_set\n",
    "                #new_states=set(degree_df.query(\"movie_id==@action\")['person_id'].values)-xpl_set #Resulting nodes/states\n",
    "                new_states=[new_state for new_state in mov_per_dic[action] if new_state not in frntr]\n",
    "                mv_pr_tup=[(action,cln_new_sts) for cln_new_sts in new_states]\n",
    "                frntr.append(new_states) #adding resulting states of frontier node expansion\n",
    "                #frntr=frntr[1:] #Removing the expanded node from frontier\n",
    "                #How to track the path?\n",
    "                #More likely to do with Class/OO.. bcz a node should have parent info for tracking\n",
    "                #Its more likely a big code -- need more variables"
   ]
  },
  {
   "cell_type": "code",
   "execution_count": 27,
   "metadata": {},
   "outputs": [
    {
     "data": {
      "text/plain": [
       "{58}"
      ]
     },
     "execution_count": 27,
     "metadata": {},
     "output_type": "execute_result"
    }
   ],
   "source": [
    "set([58])"
   ]
  },
  {
   "cell_type": "code",
   "execution_count": null,
   "metadata": {
    "collapsed": true
   },
   "outputs": [],
   "source": [
    "xpl_set.add()"
   ]
  }
 ],
 "metadata": {
  "kernelspec": {
   "display_name": "Python 3",
   "language": "python",
   "name": "python3"
  },
  "language_info": {
   "codemirror_mode": {
    "name": "ipython",
    "version": 3
   },
   "file_extension": ".py",
   "mimetype": "text/x-python",
   "name": "python",
   "nbconvert_exporter": "python",
   "pygments_lexer": "ipython3",
   "version": "3.6.3"
  }
 },
 "nbformat": 4,
 "nbformat_minor": 2
}
